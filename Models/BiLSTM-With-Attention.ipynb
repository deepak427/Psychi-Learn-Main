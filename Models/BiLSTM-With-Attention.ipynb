{
 "cells": [
  {
   "cell_type": "markdown",
   "metadata": {},
   "source": [
    "# Import dependencies and custom modules"
   ]
  },
  {
   "cell_type": "code",
   "execution_count": 1,
   "metadata": {},
   "outputs": [],
   "source": [
    "import os\n",
    "os.environ[\"TF_CPP_MIN_LOG_LEVEL\"] = '3'  # Suppress TF log messages\n",
    "\n",
    "import random\n",
    "import numpy as np\n",
    "import tensorflow as tf"
   ]
  },
  {
   "cell_type": "code",
   "execution_count": 2,
   "metadata": {},
   "outputs": [],
   "source": [
    "from DatasetAPI.DataLoader import DatasetLoader"
   ]
  },
  {
   "cell_type": "markdown",
   "metadata": {},
   "source": [
    "# Loading the dataset"
   ]
  },
  {
   "cell_type": "code",
   "execution_count": 3,
   "metadata": {},
   "outputs": [
    {
     "name": "stdout",
     "output_type": "stream",
     "text": [
      "(967680, 64)\n",
      "(967680, 4)\n"
     ]
    }
   ],
   "source": [
    "Model = 'Attention_based_Long_Short_Term_Memory'\n",
    "DIR = 'DatasetAPI/EEG-Motor-Movement-Imagery-Dataset/'\n",
    "SAVE = os.path.join('Saved_Files', Model)\n",
    "os.makedirs(SAVE, exist_ok=True)\n",
    "\n",
    "# GPU memory growth configuration (TF2 style)\n",
    "gpus = tf.config.list_physical_devices('GPU')\n",
    "if gpus:\n",
    "    try:\n",
    "        for gpu in gpus:\n",
    "            tf.config.experimental.set_memory_growth(gpu, True)\n",
    "    except RuntimeError as e:\n",
    "        print(e)\n",
    "\n",
    "# Load the dataset. Assumes CSV files named appropriately.\n",
    "train_data, train_labels, test_data, test_labels = DatasetLoader(DIR=DIR)\n",
    "\n",
    "# One-hot encode the labels (for 4 classes) and squeeze extra dimensions.\n",
    "train_labels = tf.one_hot(train_labels, depth=4)\n",
    "train_labels = tf.squeeze(train_labels)\n",
    "test_labels = tf.one_hot(test_labels, depth=4)\n",
    "test_labels = tf.squeeze(test_labels)\n",
    "\n",
    "print(train_data.shape)\n",
    "print(train_labels.shape)"
   ]
  },
  {
   "cell_type": "code",
   "execution_count": null,
   "metadata": {},
   "outputs": [],
   "source": [
    "\n",
    "# Model Hyper-parameters\n",
    "n_input = 64       # Input size per time step\n",
    "max_time = 64      # Number of time steps per sequence\n",
    "lstm_size = 256    # Number of LSTM units (per direction)\n",
    "attention_size = 8 # Size of the attention layer\n",
    "n_class = 4        # Number of output classes\n",
    "n_hidden = 64      # Hidden units in the FC layer\n",
    "num_epoch = 300    # Number of training epochs\n",
    "keep_rate = 0.75   # Dropout keep probability\n",
    "\n",
    "# Learning rate parameters\n",
    "initial_lr = 1e-4\n",
    "lr_decay_epoch = 50   # Decay every 50 epochs\n",
    "lr_decay = 0.50       # Multiply learning rate by 0.5\n",
    "\n",
    "batch_size = 1024"
   ]
  },
  {
   "cell_type": "code",
   "execution_count": null,
   "metadata": {},
   "outputs": [],
   "source": [
    "# Create dataset objects using tf.data\n",
    "train_dataset = tf.data.Dataset.from_tensor_slices((train_data, train_labels))\n",
    "train_dataset = train_dataset.shuffle(buffer_size=train_data.shape[0]).batch(batch_size)\n",
    "test_dataset = tf.data.Dataset.from_tensor_slices((test_data, test_labels))\n",
    "test_dataset = test_dataset.batch(batch_size)"
   ]
  }
 ],
 "metadata": {
  "kernelspec": {
   "display_name": "psychi-learn",
   "language": "python",
   "name": "python3"
  },
  "language_info": {
   "codemirror_mode": {
    "name": "ipython",
    "version": 3
   },
   "file_extension": ".py",
   "mimetype": "text/x-python",
   "name": "python",
   "nbconvert_exporter": "python",
   "pygments_lexer": "ipython3",
   "version": "3.12.0"
  }
 },
 "nbformat": 4,
 "nbformat_minor": 2
}
